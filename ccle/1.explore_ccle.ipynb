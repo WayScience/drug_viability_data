{
 "cells": [
  {
   "cell_type": "markdown",
   "id": "d2eaa152-ddc7-4474-82ab-a23a38a677d0",
   "metadata": {},
   "source": [
    "## Describe Cancer Cell Line Encyclopedia Data"
   ]
  },
  {
   "cell_type": "code",
   "execution_count": 1,
   "id": "7d05b85d-d2b4-4eef-9a08-530e9bcdedb1",
   "metadata": {},
   "outputs": [],
   "source": [
    "import pathlib\n",
    "import sys\n",
    "\n",
    "import pandas as pd\n",
    "\n",
    "sys.path.append(\"../\")\n",
    "from utils import load_utils"
   ]
  },
  {
   "cell_type": "code",
   "execution_count": 2,
   "id": "31b2e0c0-a84d-480b-9cfa-9f541aac5c09",
   "metadata": {},
   "outputs": [
    {
     "name": "stdout",
     "output_type": "stream",
     "text": [
      "(11670, 15)\n"
     ]
    },
    {
     "data": {
      "text/html": [
       "<div>\n",
       "<style scoped>\n",
       "    .dataframe tbody tr th:only-of-type {\n",
       "        vertical-align: middle;\n",
       "    }\n",
       "\n",
       "    .dataframe tbody tr th {\n",
       "        vertical-align: top;\n",
       "    }\n",
       "\n",
       "    .dataframe thead th {\n",
       "        text-align: right;\n",
       "    }\n",
       "</style>\n",
       "<table border=\"1\" class=\"dataframe\">\n",
       "  <thead>\n",
       "    <tr style=\"text-align: right;\">\n",
       "      <th></th>\n",
       "      <th>CCLE Cell Line Name</th>\n",
       "      <th>Primary Cell Line Name</th>\n",
       "      <th>Compound</th>\n",
       "      <th>Target</th>\n",
       "      <th>Doses (uM)</th>\n",
       "      <th>Activity Data (median)</th>\n",
       "      <th>Activity SD</th>\n",
       "      <th>Num Data</th>\n",
       "      <th>FitType</th>\n",
       "      <th>EC50 (uM)</th>\n",
       "      <th>IC50 (uM)</th>\n",
       "      <th>Amax</th>\n",
       "      <th>ActArea</th>\n",
       "      <th>cell_line_clean</th>\n",
       "      <th>tissue</th>\n",
       "    </tr>\n",
       "  </thead>\n",
       "  <tbody>\n",
       "    <tr>\n",
       "      <th>0</th>\n",
       "      <td>1321N1_CENTRAL_NERVOUS_SYSTEM</td>\n",
       "      <td>1321N1</td>\n",
       "      <td>AEW541</td>\n",
       "      <td>IGF1R</td>\n",
       "      <td>.0025,.0080,.025,.080,.25,.80,2.53,8</td>\n",
       "      <td>8.67,11.0,2.16,.27,-10,-13,-26,-43</td>\n",
       "      <td>3.31,3.72,5.36,4.67,13.1,.18,2.42,7.51</td>\n",
       "      <td>8</td>\n",
       "      <td>Sigmoid</td>\n",
       "      <td>8.717774</td>\n",
       "      <td>8.000000</td>\n",
       "      <td>-42.558014</td>\n",
       "      <td>0.7124</td>\n",
       "      <td>1321N1</td>\n",
       "      <td>CENTRAL_NERVOUS_SYSTEM</td>\n",
       "    </tr>\n",
       "    <tr>\n",
       "      <th>1</th>\n",
       "      <td>22RV1_PROSTATE</td>\n",
       "      <td>22Rv1</td>\n",
       "      <td>AEW541</td>\n",
       "      <td>IGF1R</td>\n",
       "      <td>.0025,.0080,.025,.080,.25,.80,2.53,8</td>\n",
       "      <td>.94,12.5,-14,4.16,-25,-32,-52,-71</td>\n",
       "      <td>1.95,13.3,6.98,21.8,16.0,18.8,4.84,7.93</td>\n",
       "      <td>8</td>\n",
       "      <td>Sigmoid</td>\n",
       "      <td>8.165164</td>\n",
       "      <td>2.329924</td>\n",
       "      <td>-71.589340</td>\n",
       "      <td>1.6723</td>\n",
       "      <td>22RV1</td>\n",
       "      <td>PROSTATE</td>\n",
       "    </tr>\n",
       "    <tr>\n",
       "      <th>2</th>\n",
       "      <td>42MGBA_CENTRAL_NERVOUS_SYSTEM</td>\n",
       "      <td>42-MG-BA</td>\n",
       "      <td>AEW541</td>\n",
       "      <td>IGF1R</td>\n",
       "      <td>.0025,.0080,.025,.080,.25,.80,2.53,8</td>\n",
       "      <td>8.91,8.39,-3.5,12.4,-.55,-6.2,-48,-63</td>\n",
       "      <td>13.7,7.70,11.1,6.43,24.0,9.57,9.57,10.4</td>\n",
       "      <td>8</td>\n",
       "      <td>Sigmoid</td>\n",
       "      <td>1.514508</td>\n",
       "      <td>2.682130</td>\n",
       "      <td>-63.491371</td>\n",
       "      <td>1.1852</td>\n",
       "      <td>42MGBA</td>\n",
       "      <td>CENTRAL_NERVOUS_SYSTEM</td>\n",
       "    </tr>\n",
       "  </tbody>\n",
       "</table>\n",
       "</div>"
      ],
      "text/plain": [
       "             CCLE Cell Line Name Primary Cell Line Name Compound Target  \\\n",
       "0  1321N1_CENTRAL_NERVOUS_SYSTEM                 1321N1   AEW541  IGF1R   \n",
       "1                 22RV1_PROSTATE                  22Rv1   AEW541  IGF1R   \n",
       "2  42MGBA_CENTRAL_NERVOUS_SYSTEM               42-MG-BA   AEW541  IGF1R   \n",
       "\n",
       "                             Doses (uM)  \\\n",
       "0  .0025,.0080,.025,.080,.25,.80,2.53,8   \n",
       "1  .0025,.0080,.025,.080,.25,.80,2.53,8   \n",
       "2  .0025,.0080,.025,.080,.25,.80,2.53,8   \n",
       "\n",
       "                  Activity Data (median)  \\\n",
       "0     8.67,11.0,2.16,.27,-10,-13,-26,-43   \n",
       "1      .94,12.5,-14,4.16,-25,-32,-52,-71   \n",
       "2  8.91,8.39,-3.5,12.4,-.55,-6.2,-48,-63   \n",
       "\n",
       "                               Activity SD  Num Data  FitType  EC50 (uM)  \\\n",
       "0   3.31,3.72,5.36,4.67,13.1,.18,2.42,7.51         8  Sigmoid   8.717774   \n",
       "1  1.95,13.3,6.98,21.8,16.0,18.8,4.84,7.93         8  Sigmoid   8.165164   \n",
       "2  13.7,7.70,11.1,6.43,24.0,9.57,9.57,10.4         8  Sigmoid   1.514508   \n",
       "\n",
       "   IC50 (uM)       Amax  ActArea cell_line_clean                  tissue  \n",
       "0   8.000000 -42.558014   0.7124          1321N1  CENTRAL_NERVOUS_SYSTEM  \n",
       "1   2.329924 -71.589340   1.6723           22RV1                PROSTATE  \n",
       "2   2.682130 -63.491371   1.1852          42MGBA  CENTRAL_NERVOUS_SYSTEM  "
      ]
     },
     "execution_count": 2,
     "metadata": {},
     "output_type": "execute_result"
    }
   ],
   "source": [
    "# Load CCLE data\n",
    "top_dir = \"..\"\n",
    "data_dir = \"ccle/data\"\n",
    "\n",
    "ccle_df = load_utils.load_ccle(top_dir=top_dir, data_dir=data_dir, process_tissues=True)\n",
    "\n",
    "print(ccle_df.shape)\n",
    "ccle_df.head(3)"
   ]
  },
  {
   "cell_type": "code",
   "execution_count": 3,
   "id": "878b6669-1ee9-48c7-b3a1-bfb8d923d372",
   "metadata": {},
   "outputs": [
    {
     "data": {
      "text/plain": [
       "KO52_HAEMATOPOIETIC_AND_LYMPHOID_TISSUE     24\n",
       "MFE280_ENDOMETRIUM                          24\n",
       "MELHO_SKIN                                  24\n",
       "MEG01_HAEMATOPOIETIC_AND_LYMPHOID_TISSUE    24\n",
       "MEC1_HAEMATOPOIETIC_AND_LYMPHOID_TISSUE     24\n",
       "                                            ..\n",
       "KYSE140_OESOPHAGUS                          19\n",
       "ESS1_ENDOMETRIUM                            19\n",
       "KYSE180_OESOPHAGUS                          19\n",
       "SCC25_UPPER_AERODIGESTIVE_TRACT             19\n",
       "TE11_OESOPHAGUS                             17\n",
       "Name: CCLE Cell Line Name, Length: 504, dtype: int64"
      ]
     },
     "execution_count": 3,
     "metadata": {},
     "output_type": "execute_result"
    }
   ],
   "source": [
    "# How many cell lines\n",
    "ccle_df.loc[:, \"CCLE Cell Line Name\"].value_counts()"
   ]
  },
  {
   "cell_type": "code",
   "execution_count": 4,
   "id": "38ad8e0a-6d3c-439a-9348-b6f25bc07c9b",
   "metadata": {},
   "outputs": [
    {
     "name": "stdout",
     "output_type": "stream",
     "text": [
      "24\n"
     ]
    },
    {
     "data": {
      "text/plain": [
       "Topotecan       504\n",
       "TKI258          504\n",
       "TAE684          504\n",
       "Lapatinib       504\n",
       "Nutlin-3        504\n",
       "AZD0530         504\n",
       "PF2341066       504\n",
       "PD-0325901      504\n",
       "AEW541          503\n",
       "AZD6244         503\n",
       "Paclitaxel      503\n",
       "LBW242          503\n",
       "Erlotinib       503\n",
       "Sorafenib       503\n",
       "PHA-665752      503\n",
       "17-AAG          503\n",
       "Panobinostat    500\n",
       "ZD-6474         496\n",
       "PLX4720         496\n",
       "L-685458        491\n",
       "RAF265          460\n",
       "PD-0332991      434\n",
       "Nilotinib       420\n",
       "Irinotecan      317\n",
       "Name: Compound, dtype: int64"
      ]
     },
     "execution_count": 4,
     "metadata": {},
     "output_type": "execute_result"
    }
   ],
   "source": [
    "# How many unique perturbations\n",
    "print(ccle_df.Compound.nunique())\n",
    "\n",
    "ccle_df.Compound.value_counts()"
   ]
  },
  {
   "cell_type": "code",
   "execution_count": 5,
   "id": "57f50bc6-d8e0-47d1-8de9-bda6e4876486",
   "metadata": {},
   "outputs": [
    {
     "name": "stdout",
     "output_type": "stream",
     "text": [
      "25\n"
     ]
    },
    {
     "data": {
      "text/plain": [
       "LUNG                                  2157\n",
       "HAEMATOPOIETIC_AND_LYMPHOID_TISSUE    1677\n",
       "SKIN                                   936\n",
       "OVARY                                  706\n",
       "BREAST                                 701\n",
       "PANCREAS                               691\n",
       "CENTRAL_NERVOUS_SYSTEM                 669\n",
       "LARGE_INTESTINE                        558\n",
       "ENDOMETRIUM                            458\n",
       "STOMACH                                444\n",
       "LIVER                                  434\n",
       "OESOPHAGUS                             339\n",
       "URINARY_TRACT                          334\n",
       "SOFT_TISSUE                            267\n",
       "BONE                                   260\n",
       "AUTONOMIC_GANGLIA                      223\n",
       "KIDNEY                                 209\n",
       "PLEURA                                 165\n",
       "UPPER_AERODIGESTIVE_TRACT              156\n",
       "THYROID                                120\n",
       "PROSTATE                                72\n",
       "BILIARY_TRACT                           24\n",
       "FIBROBLAST                              24\n",
       "SALIVARY_GLAND                          23\n",
       "GLIAL                                   23\n",
       "Name: tissue, dtype: int64"
      ]
     },
     "execution_count": 5,
     "metadata": {},
     "output_type": "execute_result"
    }
   ],
   "source": [
    "# How many tissues\n",
    "print(ccle_df.tissue.nunique())\n",
    "\n",
    "ccle_df.tissue.value_counts()"
   ]
  },
  {
   "cell_type": "code",
   "execution_count": 6,
   "id": "40330430-7e76-42ea-931c-866694b2662d",
   "metadata": {},
   "outputs": [
    {
     "data": {
      "text/plain": [
       "LUNG                                  94\n",
       "HAEMATOPOIETIC_AND_LYMPHOID_TISSUE    71\n",
       "SKIN                                  40\n",
       "OVARY                                 30\n",
       "BREAST                                30\n",
       "PANCREAS                              30\n",
       "CENTRAL_NERVOUS_SYSTEM                29\n",
       "LARGE_INTESTINE                       24\n",
       "ENDOMETRIUM                           20\n",
       "STOMACH                               19\n",
       "LIVER                                 19\n",
       "OESOPHAGUS                            16\n",
       "URINARY_TRACT                         14\n",
       "SOFT_TISSUE                           12\n",
       "BONE                                  11\n",
       "AUTONOMIC_GANGLIA                     10\n",
       "KIDNEY                                 9\n",
       "UPPER_AERODIGESTIVE_TRACT              7\n",
       "PLEURA                                 7\n",
       "THYROID                                5\n",
       "PROSTATE                               3\n",
       "SALIVARY_GLAND                         1\n",
       "BILIARY_TRACT                          1\n",
       "GLIAL                                  1\n",
       "FIBROBLAST                             1\n",
       "Name: tissue, dtype: int64"
      ]
     },
     "execution_count": 6,
     "metadata": {},
     "output_type": "execute_result"
    }
   ],
   "source": [
    "# How many unique cell lines per tissue?\n",
    "ccle_df.drop_duplicates(subset=\"cell_line_clean\").tissue.value_counts()"
   ]
  }
 ],
 "metadata": {
  "kernelspec": {
   "display_name": "Python [conda env:drug-viability] *",
   "language": "python",
   "name": "conda-env-drug-viability-py"
  },
  "language_info": {
   "codemirror_mode": {
    "name": "ipython",
    "version": 3
   },
   "file_extension": ".py",
   "mimetype": "text/x-python",
   "name": "python",
   "nbconvert_exporter": "python",
   "pygments_lexer": "ipython3",
   "version": "3.10.10"
  }
 },
 "nbformat": 4,
 "nbformat_minor": 5
}
