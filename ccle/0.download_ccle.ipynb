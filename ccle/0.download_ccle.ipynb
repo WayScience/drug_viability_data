{
 "cells": [
  {
   "cell_type": "markdown",
   "id": "97d2e346-71c1-446c-8ab3-c6ff7a0de5ce",
   "metadata": {},
   "source": [
    "## Download CCLE Drug Viability Data\n",
    "\n",
    "Source: [DepMap portal](https://depmap.org/portal/download/) (Pharmacological Profiling)\n",
    "\n",
    "We download the file `CCLE_NP24.2009_Drug_data_2015.02.24.csv`"
   ]
  },
  {
   "cell_type": "code",
   "execution_count": 1,
   "id": "404ae120-0094-4568-9b13-997cbc76831a",
   "metadata": {},
   "outputs": [],
   "source": [
    "import sys\n",
    "\n",
    "sys.path.append(\"../\")\n",
    "from utils import download_utils"
   ]
  },
  {
   "cell_type": "code",
   "execution_count": 2,
   "id": "37786fd3-3393-4e8e-a166-16d93796d058",
   "metadata": {},
   "outputs": [],
   "source": [
    "output_dir = \"data\"\n",
    "\n",
    "file_name = \"CCLE_NP24.2009_Drug_data_2015.02.24.csv\"\n",
    "bucket = \"depmap-external-downloads\"\n",
    "resource = \"pharmacological_profiling\""
   ]
  },
  {
   "cell_type": "code",
   "execution_count": 3,
   "id": "ceeefe79-c5c5-46c2-a332-eacb2ef8f1db",
   "metadata": {},
   "outputs": [
    {
     "data": {
      "text/plain": [
       "PosixPath('data/CCLE_NP24.2009_Drug_data_2015.02.24.csv')"
      ]
     },
     "execution_count": 3,
     "metadata": {},
     "output_type": "execute_result"
    }
   ],
   "source": [
    "download_utils.download_depmap_bucket(\n",
    "    file_name=file_name, output_dir=output_dir, bucket=bucket, resource=resource\n",
    ")"
   ]
  }
 ],
 "metadata": {
  "kernelspec": {
   "display_name": "Python 3 (ipykernel)",
   "language": "python",
   "name": "python3"
  },
  "language_info": {
   "codemirror_mode": {
    "name": "ipython",
    "version": 3
   },
   "file_extension": ".py",
   "mimetype": "text/x-python",
   "name": "python",
   "nbconvert_exporter": "python",
   "pygments_lexer": "ipython3",
   "version": "3.10.9"
  }
 },
 "nbformat": 4,
 "nbformat_minor": 5
}
