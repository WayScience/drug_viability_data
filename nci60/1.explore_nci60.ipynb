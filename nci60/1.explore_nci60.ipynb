{
 "cells": [
  {
   "cell_type": "markdown",
   "id": "6b8118f7-7bfa-4186-853b-900ad7e61fd0",
   "metadata": {},
   "source": [
    "## Explore NCI-60 data\n",
    "\n",
    "There are two screens:\n",
    "\n",
    "- Primary screen\n",
    "- Secondary screen"
   ]
  },
  {
   "cell_type": "code",
   "execution_count": 1,
   "id": "c2bb5cf6-ad93-4c4d-b341-f95b65fd19f9",
   "metadata": {},
   "outputs": [],
   "source": [
    "import pathlib\n",
    "import sys\n",
    "\n",
    "import pandas as pd\n",
    "\n",
    "sys.path.append(\"../\")\n",
    "from utils import load_utils"
   ]
  },
  {
   "cell_type": "code",
   "execution_count": 2,
   "id": "1020cb81-64c3-4db4-9f45-e8c48a29631f",
   "metadata": {},
   "outputs": [
    {
     "name": "stdout",
     "output_type": "stream",
     "text": [
      "(23410399, 18)\n"
     ]
    },
    {
     "data": {
      "text/html": [
       "<div>\n",
       "<style scoped>\n",
       "    .dataframe tbody tr th:only-of-type {\n",
       "        vertical-align: middle;\n",
       "    }\n",
       "\n",
       "    .dataframe tbody tr th {\n",
       "        vertical-align: top;\n",
       "    }\n",
       "\n",
       "    .dataframe thead th {\n",
       "        text-align: right;\n",
       "    }\n",
       "</style>\n",
       "<table border=\"1\" class=\"dataframe\">\n",
       "  <thead>\n",
       "    <tr style=\"text-align: right;\">\n",
       "      <th></th>\n",
       "      <th>RELEASE_DATE</th>\n",
       "      <th>EXPID</th>\n",
       "      <th>PREFIX</th>\n",
       "      <th>NSC</th>\n",
       "      <th>CONCENTRATION_UNIT</th>\n",
       "      <th>LOG_HI_CONCENTRATION</th>\n",
       "      <th>CONCENTRATION</th>\n",
       "      <th>PANEL_NUMBER</th>\n",
       "      <th>CELL_NUMBER</th>\n",
       "      <th>PANEL_NAME</th>\n",
       "      <th>CELL_NAME</th>\n",
       "      <th>PANEL_CODE</th>\n",
       "      <th>COUNT_GIPRCNT</th>\n",
       "      <th>AVERAGE_GIPRCNT</th>\n",
       "      <th>STDDEV_GIPRCNT</th>\n",
       "      <th>COUNT_PTC</th>\n",
       "      <th>AVERAGE_PTC</th>\n",
       "      <th>STDDEV_PTC</th>\n",
       "    </tr>\n",
       "  </thead>\n",
       "  <tbody>\n",
       "    <tr>\n",
       "      <th>0</th>\n",
       "      <td>20210223</td>\n",
       "      <td>0001MD02</td>\n",
       "      <td>S</td>\n",
       "      <td>123127</td>\n",
       "      <td>M</td>\n",
       "      <td>-4.6021</td>\n",
       "      <td>-4.6021</td>\n",
       "      <td>10</td>\n",
       "      <td>8</td>\n",
       "      <td>Melanoma</td>\n",
       "      <td>SK-MEL-28</td>\n",
       "      <td>MEL</td>\n",
       "      <td>1</td>\n",
       "      <td>-92.4658</td>\n",
       "      <td>0.0</td>\n",
       "      <td>1</td>\n",
       "      <td>2.8109</td>\n",
       "      <td>0.0</td>\n",
       "    </tr>\n",
       "    <tr>\n",
       "      <th>1</th>\n",
       "      <td>20210223</td>\n",
       "      <td>0001MD02</td>\n",
       "      <td>S</td>\n",
       "      <td>123127</td>\n",
       "      <td>M</td>\n",
       "      <td>-4.6021</td>\n",
       "      <td>-4.6021</td>\n",
       "      <td>4</td>\n",
       "      <td>10</td>\n",
       "      <td>Colon Cancer</td>\n",
       "      <td>COLO 205</td>\n",
       "      <td>COL</td>\n",
       "      <td>1</td>\n",
       "      <td>-94.3548</td>\n",
       "      <td>0.0</td>\n",
       "      <td>1</td>\n",
       "      <td>1.6340</td>\n",
       "      <td>0.0</td>\n",
       "    </tr>\n",
       "    <tr>\n",
       "      <th>2</th>\n",
       "      <td>20210223</td>\n",
       "      <td>0001MD02</td>\n",
       "      <td>S</td>\n",
       "      <td>123127</td>\n",
       "      <td>M</td>\n",
       "      <td>-4.6021</td>\n",
       "      <td>-4.6021</td>\n",
       "      <td>4</td>\n",
       "      <td>15</td>\n",
       "      <td>Colon Cancer</td>\n",
       "      <td>HCT-15</td>\n",
       "      <td>COL</td>\n",
       "      <td>1</td>\n",
       "      <td>-25.8621</td>\n",
       "      <td>0.0</td>\n",
       "      <td>1</td>\n",
       "      <td>12.6347</td>\n",
       "      <td>0.0</td>\n",
       "    </tr>\n",
       "  </tbody>\n",
       "</table>\n",
       "</div>"
      ],
      "text/plain": [
       "   RELEASE_DATE     EXPID PREFIX     NSC CONCENTRATION_UNIT  \\\n",
       "0      20210223  0001MD02      S  123127                  M   \n",
       "1      20210223  0001MD02      S  123127                  M   \n",
       "2      20210223  0001MD02      S  123127                  M   \n",
       "\n",
       "   LOG_HI_CONCENTRATION  CONCENTRATION  PANEL_NUMBER  CELL_NUMBER  \\\n",
       "0               -4.6021        -4.6021            10            8   \n",
       "1               -4.6021        -4.6021             4           10   \n",
       "2               -4.6021        -4.6021             4           15   \n",
       "\n",
       "     PANEL_NAME  CELL_NAME PANEL_CODE  COUNT_GIPRCNT  AVERAGE_GIPRCNT  \\\n",
       "0      Melanoma  SK-MEL-28        MEL              1         -92.4658   \n",
       "1  Colon Cancer   COLO 205        COL              1         -94.3548   \n",
       "2  Colon Cancer     HCT-15        COL              1         -25.8621   \n",
       "\n",
       "   STDDEV_GIPRCNT  COUNT_PTC  AVERAGE_PTC  STDDEV_PTC  \n",
       "0             0.0          1       2.8109         0.0  \n",
       "1             0.0          1       1.6340         0.0  \n",
       "2             0.0          1      12.6347         0.0  "
      ]
     },
     "execution_count": 2,
     "metadata": {},
     "output_type": "execute_result"
    }
   ],
   "source": [
    "# Load NCI60 data (primary screen)\n",
    "top_dir = \"..\"\n",
    "data_dir = \"nci60/data\"\n",
    "\n",
    "nci60_df, nci60_trt_df = load_utils.load_nci60(\n",
    "    top_dir=top_dir, data_dir=data_dir, load_treatment_info=True\n",
    ")\n",
    "\n",
    "print(nci60_df.shape)\n",
    "nci60_df.head(3)"
   ]
  },
  {
   "cell_type": "code",
   "execution_count": 3,
   "id": "07fcda0e-efa6-45ad-8725-02a9523d6ca2",
   "metadata": {},
   "outputs": [
    {
     "name": "stdout",
     "output_type": "stream",
     "text": [
      "(251887, 3)\n"
     ]
    },
    {
     "data": {
      "text/html": [
       "<div>\n",
       "<style scoped>\n",
       "    .dataframe tbody tr th:only-of-type {\n",
       "        vertical-align: middle;\n",
       "    }\n",
       "\n",
       "    .dataframe tbody tr th {\n",
       "        vertical-align: top;\n",
       "    }\n",
       "\n",
       "    .dataframe thead th {\n",
       "        text-align: right;\n",
       "    }\n",
       "</style>\n",
       "<table border=\"1\" class=\"dataframe\">\n",
       "  <thead>\n",
       "    <tr style=\"text-align: right;\">\n",
       "      <th></th>\n",
       "      <th>nsc_number</th>\n",
       "      <th>cpd_name</th>\n",
       "      <th>cpd_name_type</th>\n",
       "    </tr>\n",
       "  </thead>\n",
       "  <tbody>\n",
       "    <tr>\n",
       "      <th>0</th>\n",
       "      <td>1</td>\n",
       "      <td>Tolylquinone</td>\n",
       "      <td>Chemical Name</td>\n",
       "    </tr>\n",
       "    <tr>\n",
       "      <th>1</th>\n",
       "      <td>1</td>\n",
       "      <td>p-Toluquinone</td>\n",
       "      <td>Chemical Name</td>\n",
       "    </tr>\n",
       "    <tr>\n",
       "      <th>2</th>\n",
       "      <td>1</td>\n",
       "      <td>Methylquinone</td>\n",
       "      <td>Chemical Name</td>\n",
       "    </tr>\n",
       "  </tbody>\n",
       "</table>\n",
       "</div>"
      ],
      "text/plain": [
       "   nsc_number       cpd_name  cpd_name_type\n",
       "0           1   Tolylquinone  Chemical Name\n",
       "1           1  p-Toluquinone  Chemical Name\n",
       "2           1  Methylquinone  Chemical Name"
      ]
     },
     "execution_count": 3,
     "metadata": {},
     "output_type": "execute_result"
    }
   ],
   "source": [
    "print(nci60_trt_df.shape)\n",
    "nci60_trt_df.head(3)"
   ]
  },
  {
   "cell_type": "code",
   "execution_count": 4,
   "id": "898729f5-d277-4ab6-abf8-a4dba0c8eb7a",
   "metadata": {},
   "outputs": [
    {
     "name": "stdout",
     "output_type": "stream",
     "text": [
      "RELEASE_DATE                  9\n",
      "EXPID                      5108\n",
      "PREFIX                        1\n",
      "NSC                       57053\n",
      "CONCENTRATION_UNIT            3\n",
      "LOG_HI_CONCENTRATION        322\n",
      "CONCENTRATION              1203\n",
      "PANEL_NUMBER                 15\n",
      "CELL_NUMBER                  40\n",
      "PANEL_NAME                   15\n",
      "CELL_NAME                   163\n",
      "PANEL_CODE                   15\n",
      "COUNT_GIPRCNT                 2\n",
      "AVERAGE_GIPRCNT         1777446\n",
      "STDDEV_GIPRCNT              526\n",
      "COUNT_PTC                     3\n",
      "AVERAGE_PTC             1143744\n",
      "STDDEV_PTC                  813\n",
      "dtype: int64\n"
     ]
    },
    {
     "data": {
      "text/plain": [
       "A549/ATCC    410783\n",
       "OVCAR-8      409068\n",
       "SW-620       408749\n",
       "U251         408549\n",
       "NCI-H23      405879\n",
       "KM12         404664\n",
       "SN12C        404609\n",
       "HCT-15       404038\n",
       "HCT-116      403811\n",
       "UO-31        403779\n",
       "SNB-19       403244\n",
       "SF-268       402812\n",
       "SK-MEL-28    402652\n",
       "IGROV1       402178\n",
       "OVCAR-5      402078\n",
       "SF-295       401927\n",
       "HT29         401909\n",
       "COLO 205     401567\n",
       "MOLT-4       400931\n",
       "NCI-H460     398676\n",
       "Name: CELL_NAME, dtype: int64"
      ]
     },
     "execution_count": 4,
     "metadata": {},
     "output_type": "execute_result"
    }
   ],
   "source": [
    "# How many unique cell lines?\n",
    "print(nci60_df.nunique())\n",
    "nci60_df.CELL_NAME.value_counts().head(20)"
   ]
  },
  {
   "cell_type": "code",
   "execution_count": 5,
   "id": "c5128d90-bf6d-4576-a7a7-625a4d4b9653",
   "metadata": {},
   "outputs": [
    {
     "name": "stdout",
     "output_type": "stream",
     "text": [
      "67534\n"
     ]
    }
   ],
   "source": [
    "# How many unique compounds?\n",
    "print(nci60_trt_df.nsc_number.nunique())"
   ]
  },
  {
   "cell_type": "code",
   "execution_count": 6,
   "id": "d7e24bbd-32a1-4db7-b4df-895095c60dbe",
   "metadata": {},
   "outputs": [
    {
     "data": {
      "text/plain": [
       "Chemical Name      196330\n",
       "9th C.I.            28024\n",
       "8th C.I.            21247\n",
       "VAN                  2001\n",
       "USAN                 1811\n",
       "German Name           635\n",
       "Czech Name            503\n",
       "French Name           325\n",
       "Italian Name          275\n",
       "Dutch Name            231\n",
       "DOT Name              163\n",
       "Brand Name            118\n",
       "Polish Name           104\n",
       "Russian Name           41\n",
       "7th C.I.               23\n",
       "INN:BAN                18\n",
       "6th C.I.               13\n",
       "Spanish Name           11\n",
       "Roumanian Name          4\n",
       "Hindustan Name          4\n",
       "Swedish Name            2\n",
       "Portuguese Name         1\n",
       "Belgian Name            1\n",
       "Persian Name            1\n",
       "Japanese Name           1\n",
       "Name: cpd_name_type, dtype: int64"
      ]
     },
     "execution_count": 6,
     "metadata": {},
     "output_type": "execute_result"
    }
   ],
   "source": [
    "# Compounds are annotated to different name types\n",
    "# Print different examples of cpd name types\n",
    "nci60_trt_df.cpd_name_type.value_counts()"
   ]
  },
  {
   "cell_type": "code",
   "execution_count": 7,
   "id": "d47b4019-0282-41e9-bf26-8aee836f2f49",
   "metadata": {
    "tags": []
   },
   "outputs": [
    {
     "data": {
      "text/plain": [
       "-6.0000     3882236\n",
       "-7.0000     3880872\n",
       "-8.0000     3860813\n",
       "-5.0000     3849714\n",
       "-4.0000     3716201\n",
       "             ...   \n",
       "-3.1487           4\n",
       "-0.1487           4\n",
       "-2.1487           4\n",
       "-11.4881          4\n",
       "-10.4881          3\n",
       "Name: CONCENTRATION, Length: 1203, dtype: int64"
      ]
     },
     "execution_count": 7,
     "metadata": {},
     "output_type": "execute_result"
    }
   ],
   "source": [
    "# How many doses?\n",
    "# (Note: -log10 value)\n",
    "nci60_df.CONCENTRATION.value_counts()"
   ]
  }
 ],
 "metadata": {
  "kernelspec": {
   "display_name": "Python [conda env:drug-viability] *",
   "language": "python",
   "name": "conda-env-drug-viability-py"
  },
  "language_info": {
   "codemirror_mode": {
    "name": "ipython",
    "version": 3
   },
   "file_extension": ".py",
   "mimetype": "text/x-python",
   "name": "python",
   "nbconvert_exporter": "python",
   "pygments_lexer": "ipython3",
   "version": "3.10.9"
  }
 },
 "nbformat": 4,
 "nbformat_minor": 5
}
