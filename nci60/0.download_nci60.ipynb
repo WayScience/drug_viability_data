{
 "cells": [
  {
   "cell_type": "markdown",
   "id": "dfd17a9d-585d-4062-b310-fed37060b9ff",
   "metadata": {},
   "source": [
    "## Download NCI-60 Growth Inhibition Data\n",
    "\n",
    "https://wiki.nci.nih.gov/display/NCIDTPdata/NCI-60+Growth+Inhibition+Data\n",
    "\n",
    "71 Cell Lines treated with 57,000 compounds"
   ]
  },
  {
   "cell_type": "code",
   "execution_count": 1,
   "id": "9330693b-87cb-4304-b114-ded7c3d0d7be",
   "metadata": {},
   "outputs": [],
   "source": [
    "import pathlib\n",
    "import sys\n",
    "\n",
    "import pandas as pd\n",
    "\n",
    "sys.path.append(\"../\")\n",
    "from utils import download_utils"
   ]
  },
  {
   "cell_type": "code",
   "execution_count": 2,
   "id": "e1d411bf-1593-4156-b57c-1076c2fd2dc3",
   "metadata": {},
   "outputs": [],
   "source": [
    "# Construct output directory\n",
    "output_dir = pathlib.Path(\"data\")\n",
    "output_dir.mkdir(exist_ok=True)"
   ]
  },
  {
   "cell_type": "code",
   "execution_count": 3,
   "id": "502a70c2-9c0f-4501-893b-ea19b3bbe5a3",
   "metadata": {},
   "outputs": [],
   "source": [
    "# Base url for downloading NCI-60 data\n",
    "nci_url = \"https://wiki.nci.nih.gov/download/attachments/\""
   ]
  },
  {
   "cell_type": "code",
   "execution_count": 4,
   "id": "d93ec1de-7c3b-498e-b63a-205e278bd91a",
   "metadata": {},
   "outputs": [
    {
     "data": {
      "text/plain": [
       "PosixPath('data/DOSERESP.zip')"
      ]
     },
     "execution_count": 4,
     "metadata": {},
     "output_type": "execute_result"
    }
   ],
   "source": [
    "# Download the dose response data\n",
    "attachment_id = \"147193864\"\n",
    "attachment_name = \"DOSERESP.zip\"\n",
    "version = \"6\"\n",
    "modification_date = \"1672801037000\"\n",
    "api = \"v2\"\n",
    "output_file = pathlib.Path(output_dir, attachment_name)\n",
    "\n",
    "download_utils.download_nci60(\n",
    "    output_file=output_file,\n",
    "    base_url=nci_url,\n",
    "    attachment_id=attachment_id,\n",
    "    attachment_name=attachment_name,\n",
    "    version=version,\n",
    "    modification_date=modification_date,\n",
    "    api=api,\n",
    "    extract_zip=True,\n",
    ")"
   ]
  },
  {
   "cell_type": "code",
   "execution_count": 5,
   "id": "c15edc78-5086-4c87-88b0-dc869d51b8bc",
   "metadata": {},
   "outputs": [
    {
     "data": {
      "text/plain": [
       "PosixPath('data/chemnames_Aug2013.zip')"
      ]
     },
     "execution_count": 5,
     "metadata": {},
     "output_type": "execute_result"
    }
   ],
   "source": [
    "# Download the chemical dictionary\n",
    "attachment_id = \"155844992\"\n",
    "attachment_name = \"chemnames_Aug2013.zip\"  # Note, not actually a zip file\n",
    "version = \"1\"\n",
    "modification_date = \"1378214926000\"\n",
    "api = \"v2\"\n",
    "output_file = pathlib.Path(output_dir, attachment_name)\n",
    "\n",
    "download_utils.download_nci60(\n",
    "    output_file=output_file,\n",
    "    base_url=nci_url,\n",
    "    attachment_id=attachment_id,\n",
    "    attachment_name=attachment_name,\n",
    "    version=version,\n",
    "    modification_date=modification_date,\n",
    "    api=api,\n",
    "    extract_zip=False,\n",
    ")"
   ]
  }
 ],
 "metadata": {
  "kernelspec": {
   "display_name": "Python 3 (ipykernel)",
   "language": "python",
   "name": "python3"
  },
  "language_info": {
   "codemirror_mode": {
    "name": "ipython",
    "version": 3
   },
   "file_extension": ".py",
   "mimetype": "text/x-python",
   "name": "python",
   "nbconvert_exporter": "python",
   "pygments_lexer": "ipython3",
   "version": "3.10.9"
  }
 },
 "nbformat": 4,
 "nbformat_minor": 5
}
